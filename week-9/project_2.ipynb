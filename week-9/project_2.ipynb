{
 "cells": [
  {
   "cell_type": "markdown",
   "metadata": {},
   "source": [
    "A PYTHON GUI DELIVERY PROGRAM THAT CALCULATE THE PRICE OF DELIVERY GIVEN THE LOCATION AND WEIGHT\n",
    "USING TKINTER AND OOP"
   ]
  },
  {
   "cell_type": "code",
   "execution_count": 9,
   "metadata": {},
   "outputs": [],
   "source": [
    "\n",
    "from tkinter import *\n",
    "from tkinter import ttk, messagebox\n",
    "\n",
    "class Package:\n",
    "    def __init__(self, weight, location):\n",
    "        self.weight = weight\n",
    "        self.location = location\n",
    "        self.price = self.calculate_delivery_price()\n",
    "\n",
    "    def calculate_delivery_price(self):\n",
    "        if self.weight >= 10 and self.location == \"PAU\":\n",
    "            return 2000\n",
    "        \n",
    "        elif self.weight < 10 and self.location == \"PAU\":\n",
    "            return 1500\n",
    "        \n",
    "        elif self.weight >= 10 and self.location == \"EPE\":\n",
    "            return 5000\n",
    "        \n",
    "        elif self.weight < 10 and self.location == \"EPE\":\n",
    "            return 4000\n",
    "\n",
    "\n",
    "def calculate_price():\n",
    "    location = loc_var.get()\n",
    "\n",
    "    if location != \"\":\n",
    "\n",
    "        try:\n",
    "            weight = float(weight_entry.get())\n",
    "            package = Package(weight, location)\n",
    "            messagebox.showinfo(\"Price\", f\"The Price of Delivery to {package.location} is N{package.price}\")\n",
    "\n",
    "        except ValueError:\n",
    "            messagebox.showerror(\"Error\", \"Weight should be a number\")\n",
    "\n",
    "    else:\n",
    "        messagebox.showerror(\"Error\", \"Choose a location\")\n",
    "\n",
    "    \n",
    "\n",
    "\n",
    "\n",
    "locations = [\"PAU\", \"EPE\"]\n",
    "\n",
    "root = Tk()\n",
    "root.geometry(\"400x300\")\n",
    "root.title(\"Delivery\")\n",
    "\n",
    "Label(text=\"Select Location: \").place(x=0, y=10)\n",
    "\n",
    "loc_var = StringVar()\n",
    "location_chosen = ttk.Combobox(root, textvariable=loc_var, values=locations)\n",
    "location_chosen.place(x=170, y=10)\n",
    "\n",
    "Label(text=\"Enter weight of package:\").place(x=0, y=40)\n",
    "\n",
    "weight_entry = Entry()\n",
    "weight_entry.place(x=170, y=40)    \n",
    "\n",
    "\n",
    "submit_button = Button(text=\"Calculate Price\", command=calculate_price)\n",
    "submit_button.place(x=150, y=80)\n",
    "\n",
    "root.mainloop()"
   ]
  }
 ],
 "metadata": {
  "kernelspec": {
   "display_name": "Python 3",
   "language": "python",
   "name": "python3"
  },
  "language_info": {
   "codemirror_mode": {
    "name": "ipython",
    "version": 3
   },
   "file_extension": ".py",
   "mimetype": "text/x-python",
   "name": "python",
   "nbconvert_exporter": "python",
   "pygments_lexer": "ipython3",
   "version": "3.10.12"
  }
 },
 "nbformat": 4,
 "nbformat_minor": 2
}

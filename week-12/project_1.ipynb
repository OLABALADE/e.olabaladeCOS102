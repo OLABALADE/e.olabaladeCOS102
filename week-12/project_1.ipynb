{
 "cells": [
  {
   "cell_type": "code",
   "execution_count": 14,
   "metadata": {},
   "outputs": [
    {
     "name": "stdout",
     "output_type": "stream",
     "text": [
      "List of clubs in Coup de Ecriva:\n",
      " 1.FC Cirok \n",
      " 2.Madiba FC \n",
      " 3.Blue Jay FC \n",
      " 4.TSG Walker\n",
      "Welcome to Madiba FC\n"
     ]
    }
   ],
   "source": [
    "from abc import ABC, abstractmethod\n",
    "\n",
    "class coup_de_ecriva(ABC):\n",
    "\n",
    "    @abstractmethod\n",
    "    def Fan_Page(self):\n",
    "        pass\n",
    "\n",
    "class FC_Cirok(coup_de_ecriva):\n",
    "    def Fan_Page(self):\n",
    "        print(\"Welcome to FC Cirok\")\n",
    "\n",
    "class Madiba_FC(coup_de_ecriva):\n",
    "    def Fan_Page(self):\n",
    "        print(\"Welcome to Madiba FC\")\n",
    "\n",
    "class Blue_Jay_FC(coup_de_ecriva):\n",
    "    def Fan_Page(self):\n",
    "        print(\"Welcome to Blue Jay FC\")\n",
    "\n",
    "class TSG_Walker(coup_de_ecriva):\n",
    "    def Fan_Page(self):\n",
    "        print(\"Welcome to TSG Walker\")\n",
    "\n",
    "\n",
    "\n",
    "print(\"List of clubs in Coup de Ecriva:\\n 1.FC Cirok \\n 2.Madiba FC \\n 3.Blue Jay FC \\n 4.TSG Walker\")\n",
    "\n",
    "club_name = input(\"Input the name Club to visit their Fan Page\").lower()\n",
    "\n",
    "if club_name == \"fc cirok\":\n",
    "    club = FC_Cirok()\n",
    "    club.Fan_Page()\n",
    "\n",
    "elif club_name == \"madiba fc\":\n",
    "    club = Madiba_FC()\n",
    "    club.Fan_Page()\n",
    "\n",
    "elif club_name == \"blue jay fc\":\n",
    "    club = Blue_Jay_FC()\n",
    "    club.Fan_Page()\n",
    "\n",
    "elif club_name == \"tsg walker\":\n",
    "    club = FC_Cirok()\n",
    "    club.Fan_Page()\n",
    "\n",
    "else:\n",
    "    print(f\"Error: \\n{club_name} is not in the Coup de Ecriva League.\")"
   ]
  }
 ],
 "metadata": {
  "kernelspec": {
   "display_name": "Python 3",
   "language": "python",
   "name": "python3"
  },
  "language_info": {
   "codemirror_mode": {
    "name": "ipython",
    "version": 3
   },
   "file_extension": ".py",
   "mimetype": "text/x-python",
   "name": "python",
   "nbconvert_exporter": "python",
   "pygments_lexer": "ipython3",
   "version": "3.10.12"
  }
 },
 "nbformat": 4,
 "nbformat_minor": 2
}

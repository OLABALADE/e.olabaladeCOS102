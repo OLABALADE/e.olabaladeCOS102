{
 "cells": [
  {
   "cell_type": "markdown",
   "metadata": {},
   "source": [
    "A Python program that sends a request to read from a csv file and returns another csv file gotten from the first csv file based on the age condition specified in the request, which is then encapsulated within the request.\n"
   ]
  },
  {
   "cell_type": "code",
   "execution_count": 47,
   "metadata": {},
   "outputs": [
    {
     "name": "stdout",
     "output_type": "stream",
     "text": [
      "Error, Input is not a number\n"
     ]
    }
   ],
   "source": [
    "import pandas\n",
    "\n",
    "class Request:\n",
    "    def __init__(self):\n",
    "        try:\n",
    "            self.age = int(input(\"Input Student Age\"))\n",
    "\n",
    "        except ValueError:\n",
    "            print(\"Error, Input is not a number\")\n",
    "            \n",
    "        else:\n",
    "            self.__file = None\n",
    "            self.set_file()\n",
    "            self.get_file()\n",
    "        \n",
    "\n",
    "    def get_file(self):\n",
    "        if self.age > 14 and self.age < 25:\n",
    "            print(self.__file)\n",
    "        else:\n",
    "            print(\"Error, This age does not belong to any group.\")\n",
    "\n",
    "\n",
    "    def set_file(self):\n",
    "\n",
    "        if self.age > 14 and self.age < 18:\n",
    "\n",
    "            df.loc[(df.Age > 14) & (df.Age < 18)].to_csv(\"The_Pirates\")\n",
    "            self.__file = pandas.read_csv(\"The_Pirates\")\n",
    "\n",
    "        elif self.age > 18 and self.age < 22:\n",
    "\n",
    "            df.loc[(df.Age > 18) & (df.Age < 22)].to_csv(\"The_Yankees\")\n",
    "            self.__file = pandas.read_csv(\"The_Yankees\")\n",
    "\n",
    "        elif self.age > 22 and self.age < 25:\n",
    "            df.loc[(df.Age > 22) & (df.Age < 25)].to_csv(\"The_Bulls\")\n",
    "            self.__file = pandas.read_csv(\"The_Bulls\")\n",
    "\n",
    "            \n",
    "\n",
    "df = pandas.read_csv(\"SIS.csv\")\n",
    "\n",
    "request = Request()\n",
    "\n",
    "\n",
    "\n",
    "\n",
    "\n"
   ]
  }
 ],
 "metadata": {
  "kernelspec": {
   "display_name": "Python 3",
   "language": "python",
   "name": "python3"
  },
  "language_info": {
   "codemirror_mode": {
    "name": "ipython",
    "version": 3
   },
   "file_extension": ".py",
   "mimetype": "text/x-python",
   "name": "python",
   "nbconvert_exporter": "python",
   "pygments_lexer": "ipython3",
   "version": "3.10.12"
  }
 },
 "nbformat": 4,
 "nbformat_minor": 2
}

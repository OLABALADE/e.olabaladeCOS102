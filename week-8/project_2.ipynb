{
 "cells": [
  {
   "cell_type": "code",
   "execution_count": 39,
   "metadata": {},
   "outputs": [
    {
     "name": "stdout",
     "output_type": "stream",
     "text": [
      "                          Brand                     Segment Exported\n",
      "0             Cadbury Bournvita       Refreshment Beverages       No\n",
      "1  Cadbury 3-in-1 Hot Chocolate       Refreshment Beverages       No\n",
      "2                TomTom Classic               Confectionery       No\n",
      "3             TomTom Strawberry               Confectionery       No\n",
      "4                    Buttermint               Confectionery       No\n",
      "5                  Cocoa Powder  Intermediate Cocoa Product      Yes\n",
      "6                  Cocoa Butter  Intermediate Cocoa Product      Yes\n",
      "7                  Cocoa Liquor  Intermediate Cocoa Product      Yes\n"
     ]
    }
   ],
   "source": [
    "import pandas as pd\n",
    "\n",
    "\n",
    "segment = [\"Refreshment Beverages\", \"Confectionery\", \"Intermediate Cocoa Product\"]\n",
    "\n",
    "beverages = [\"Cadbury Bournvita\", \"Cadbury 3-in-1 Hot Chocolate\"]\n",
    "confectioneries = [\"TomTom Classic\", \"TomTom Strawberry\", \"Buttermint\"]\n",
    "cocoa_products = [\"Cocoa Powder\", \"Cocoa Butter\", \"Cocoa Liquor\"]\n",
    "\n",
    "brands = beverages + confectioneries + cocoa_products\n",
    "\n",
    "df = {\n",
    "    \"Brand\": brands,\n",
    "    \"Segment\": [segment[0] if brand in beverages else (segment[1] if brand in confectioneries else segment[2])  for brand in brands],\n",
    "    \"Exported\": [\"Yes\" if brand in cocoa_products else \"No\" for brand in brands]\n",
    "}\n",
    "\n",
    "\n",
    "df = pd.DataFrame(df)\n",
    "\n",
    "df.to_csv(\"cadbury_market.csv\")\n",
    "\n",
    "\n"
   ]
  }
 ],
 "metadata": {
  "kernelspec": {
   "display_name": "Python 3",
   "language": "python",
   "name": "python3"
  },
  "language_info": {
   "codemirror_mode": {
    "name": "ipython",
    "version": 3
   },
   "file_extension": ".py",
   "mimetype": "text/x-python",
   "name": "python",
   "nbconvert_exporter": "python",
   "pygments_lexer": "ipython3",
   "version": "3.10.12"
  }
 },
 "nbformat": 4,
 "nbformat_minor": 2
}

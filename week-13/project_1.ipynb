{
 "cells": [
  {
   "cell_type": "markdown",
   "metadata": {},
   "source": [
    "CREATE PAYSTACK TEAM DATABASE"
   ]
  },
  {
   "cell_type": "code",
   "execution_count": 2,
   "metadata": {},
   "outputs": [
    {
     "name": "stdout",
     "output_type": "stream",
     "text": [
      "Connection to PostgreSQL DB successful\n",
      "database \"Paystack_Team\" already exists\n",
      "\n"
     ]
    }
   ],
   "source": [
    "import psycopg2\n",
    "from psycopg2 import sql\n",
    "\n",
    "host = \"localhost\"\n",
    "port = 5432\n",
    "dbname = \"postgres\"\n",
    "user = \"postgres\"\n",
    "password = \"cos_102\"\n",
    "\n",
    "new_dbname = \"Paystack_Team\"\n",
    "\n",
    "try:\n",
    "    # Connect to the PostgreSQL database\n",
    "    connection = psycopg2.connect(\n",
    "        host=host,\n",
    "        port=port,\n",
    "        dbname=dbname,\n",
    "        user=user,\n",
    "        password=password\n",
    "    )\n",
    "\n",
    "    print(\"Connection to PostgreSQL DB successful\")\n",
    "    connection.autocommit = True\n",
    "\n",
    "    cursor = connection.cursor()\n",
    "    \n",
    "    #Create database\n",
    "    create_db_query = sql.SQL(\"CREATE DATABASE {}\").format(sql.Identifier(new_dbname))\n",
    "    cursor.execute(create_db_query)\n",
    "    print(f\"Database '{new_dbname}' created successfully\")\n",
    "\n",
    "\n",
    "    # Close the cursor and connection\n",
    "    cursor.close()\n",
    "    connection.close()\n",
    "\n",
    "except Exception as error:\n",
    "    print(error)\n"
   ]
  },
  {
   "cell_type": "markdown",
   "metadata": {},
   "source": [
    "CREATE MEMBERS TABLE"
   ]
  },
  {
   "cell_type": "code",
   "execution_count": 8,
   "metadata": {},
   "outputs": [
    {
     "name": "stdout",
     "output_type": "stream",
     "text": [
      "Connection to PostgreSQL DB successful\n",
      "Created Table\n",
      "relation \"members\" already exists\n",
      "\n"
     ]
    }
   ],
   "source": [
    "import psycopg2\n",
    "\n",
    "host = \"localhost\"\n",
    "port = 5432\n",
    "dbname = \"Paystack_Team\"\n",
    "user = \"postgres\"\n",
    "password = \"cos_102\"\n",
    "\n",
    "\n",
    "try:\n",
    "    # Connect to the PostgreSQL database\n",
    "    connection = psycopg2.connect(\n",
    "        host=host,\n",
    "        port=port,\n",
    "        dbname=dbname,\n",
    "        user=user,\n",
    "        password=password\n",
    "    )\n",
    "    print(\"Connection to PostgreSQL DB successful\")\n",
    "\n",
    "    connection.autocommit = True\n",
    "\n",
    "    cursor = connection.cursor()\n",
    "\n",
    "    create_table_query = \"\"\"\n",
    "    CREATE TABLE members (\n",
    "        id SERIAL PRIMARY KEY,\n",
    "        name VARCHAR NOT NULL,\n",
    "        division VARCHAR NOT NULL,\n",
    "        age INT NOT NULL,\n",
    "        module INT NOT NULL\n",
    "    );\n",
    "    \"\"\"\n",
    "    print(\"Created Table\")\n",
    "\n",
    "    cursor.execute(create_table_query)\n",
    "\n",
    "    # Close the cursor and connection\n",
    "    cursor.close()\n",
    "    connection.close()\n",
    "    \n",
    "except Exception as error:\n",
    "    print(error)"
   ]
  },
  {
   "cell_type": "markdown",
   "metadata": {},
   "source": [
    "INSERT MEMBER'S DATA INTO MEMBERS TABLE"
   ]
  },
  {
   "cell_type": "code",
   "execution_count": 6,
   "metadata": {},
   "outputs": [
    {
     "name": "stdout",
     "output_type": "stream",
     "text": [
      "Connection to PostgreSQL DB successful\n",
      "duplicate key value violates unique constraint \"members_pkey\"\n",
      "DETAIL:  Key (id)=(1) already exists.\n",
      "\n"
     ]
    }
   ],
   "source": [
    "import psycopg2\n",
    "\n",
    "paystack_data = [\n",
    "    (1,'Oyinda Aina', 'Business', 32, 1), (2,'Wale Eseyin', 'Engineering', 28, 3), \n",
    "    (3,'Khadijah Abu', 'Product', 30, 2), (4,'Onyekachi Mbaike', 'Design', 37, 5), \n",
    "    (5,'Seike Ibojo', 'Growth', 33, 4), (6,'Opemipo Aikomo', 'Design', 28, 1), \n",
    "    (7,'Ezra Olubi', 'Product', 30, 3), (8,'Alexander Fasoro', 'Engineering', 35, 1), \n",
    "    (9,'Stephen Amaza', 'Growth', 40, 2), (10,'Loknan Nanyak', 'Engineering', 44, 5), \n",
    "    (11,'Ibrahim Lawal', 'Engineering', 39, 4), (12,'Fisayo Kolawole', 'Commercial', 27, 5), \n",
    "    (13,'Emmanuel Quartey', 'Growth', 31, 1), (14,'Awatt Bassey', 'Growth', 32, 2), \n",
    "    (15,'Bolaji Akande', 'Revenue', 30, 3), (16,'Mohini Ufeli', 'Growth', 29, 1), \n",
    "    (17,'King Makanjuola', 'Product', 31, 4), (18,'Ijeoma Opara', 'Revenue', 26, 2), \n",
    "    (19,'Dipo Omobomi', 'Product', 32, 5), (20,'Dapo Awobokun', 'Revenue', 35, 3), \n",
    "    (21,'Charles Idem', 'Revenue', 38, 1), (22,'Ayobami Alo', 'Product', 34, 4), \n",
    "    (23,'Aminat Badara', 'Growth', 30, 2)\n",
    "    ]\n",
    "\n",
    "host = \"localhost\"\n",
    "port = 5432\n",
    "dbname = \"Paystack_Team\"\n",
    "user = \"postgres\"\n",
    "password = \"cos_102\"\n",
    "\n",
    "try:\n",
    "\n",
    "    # Connect to the PostgreSQL database\n",
    "    connection = psycopg2.connect(\n",
    "        host=host,\n",
    "        port=port,\n",
    "        dbname=dbname,\n",
    "        user=user,\n",
    "        password=password\n",
    "    )\n",
    "    connection.autocommit = True\n",
    "    print(\"Connection to PostgreSQL DB successful\")\n",
    "\n",
    "    cursor = connection.cursor()\n",
    "\n",
    "    for data in paystack_data:\n",
    "        insert_query = f\"INSERT INTO members VALUES {data}\"\n",
    "        cursor.execute(insert_query)\n",
    "    \n",
    "    print(\"Inserted data successfully\")\n",
    "\n",
    "    # Close the cursor and connection\n",
    "    cursor.close()\n",
    "    connection.close()\n",
    "\n",
    "    \n",
    "except Exception as error:\n",
    "    print(error)"
   ]
  },
  {
   "cell_type": "markdown",
   "metadata": {},
   "source": [
    "PERFORM OPERATIONS"
   ]
  },
  {
   "cell_type": "code",
   "execution_count": 27,
   "metadata": {},
   "outputs": [
    {
     "name": "stdout",
     "output_type": "stream",
     "text": [
      "Connection to PostgreSQL DB successful\n",
      "Memebers of the Revenue Division\n",
      "(15, 'Bolaji Akande', 'Revenue', 30, 3)\n",
      "(18, 'Ijeoma Opara', 'Revenue', 26, 2)\n",
      "(20, 'Dapo Awobokun', 'Revenue', 35, 3)\n",
      "(21, 'Charles Idem', 'Revenue', 38, 1)\n",
      "\n",
      "\n",
      "Members of the Growth and Product division whose age is greater than 30 but less than 35\n",
      "(3, 'Khadijah Abu', 'Product', 30, 2)\n",
      "(5, 'Seike Ibojo', 'Growth', 33, 4)\n",
      "(7, 'Ezra Olubi', 'Product', 30, 3)\n",
      "(13, 'Emmanuel Quartey', 'Growth', 31, 1)\n",
      "(14, 'Awatt Bassey', 'Growth', 32, 2)\n",
      "(17, 'King Makanjuola', 'Product', 31, 4)\n",
      "(19, 'Dipo Omobomi', 'Product', 32, 5)\n",
      "(22, 'Ayobami Alo', 'Product', 34, 4)\n",
      "\n",
      "\n",
      "Members in module 1, 3 and 5\n",
      "(1, 'Oyinda Aina', 'Business', 32, 1)\n",
      "(2, 'Wale Eseyin', 'Engineering', 28, 3)\n",
      "(4, 'Onyekachi Mbaike', 'Design', 37, 5)\n",
      "(6, 'Opemipo Aikomo', 'Design', 28, 1)\n",
      "(7, 'Ezra Olubi', 'Product', 30, 3)\n",
      "(8, 'Alexander Fasoro', 'Engineering', 35, 1)\n",
      "(10, 'Loknan Nanyak', 'Engineering', 44, 5)\n",
      "(12, 'Fisayo Kolawole', 'Commercial', 27, 5)\n",
      "(13, 'Emmanuel Quartey', 'Growth', 31, 1)\n",
      "(15, 'Bolaji Akande', 'Revenue', 30, 3)\n",
      "(16, 'Mohini Ufeli', 'Growth', 29, 1)\n",
      "(19, 'Dipo Omobomi', 'Product', 32, 5)\n",
      "(20, 'Dapo Awobokun', 'Revenue', 35, 3)\n",
      "(21, 'Charles Idem', 'Revenue', 38, 1)\n",
      "\n",
      "\n",
      "Members in module 4 and in the Product Division\n"
     ]
    }
   ],
   "source": [
    "import psycopg2\n",
    "\n",
    "def get_results(cursor, query):\n",
    "    cursor.execute(query)\n",
    "    results = cursor.fetchall()\n",
    "    for row in results:\n",
    "        print(row)\n",
    "    \n",
    "    print(\"\\n\")\n",
    "\n",
    "host = \"localhost\"\n",
    "port = 5432\n",
    "dbname = \"Paystack_Team\"\n",
    "user = \"postgres\"\n",
    "password = \"cos_102\"\n",
    "\n",
    "try:\n",
    "    connection = psycopg2.connect(\n",
    "        host=host,\n",
    "        port=port,\n",
    "        dbname=dbname,\n",
    "        user=user,\n",
    "        password=password\n",
    "    )\n",
    "    print(\"Connection to PostgreSQL DB successful\")\n",
    "\n",
    "    cursor = connection.cursor()\n",
    "\n",
    "    print(\"Memebers of the Revenue Division\")\n",
    "    revenue_members_query = \"SELECT * FROM members WHERE division = 'Revenue';\"\n",
    "    get_results(cursor, revenue_members_query)\n",
    "\n",
    "    print(\"Members of the Growth and Product division whose age is greater than 30 but less than 35\")\n",
    "    product_and_growth_members_query = \"SELECT * FROM members WHERE division = 'Product' or division = 'Growth' and age > 30 and age < 35;\"\n",
    "    get_results(cursor, product_and_growth_members_query)\n",
    "\n",
    "    print(\"Members in module 1, 3 and 5\")\n",
    "    modules_1_3_5_query = \"SELECT * FROM members WHERE module = 1 or module = 3 or module = 5\"\n",
    "    get_results(cursor, modules_1_3_5_query)\n",
    "\n",
    "    print(\"Members in module 4 and in the Product Division\")\n",
    "    module_product_query = \"SELECT * FROM members WHERE module = 4 and division = 'Product\"\n",
    "\n",
    "\n",
    "    \n",
    "\n",
    "    cursor.close()\n",
    "    connection.close()\n",
    "except Exception as error:\n",
    "    print(error)"
   ]
  }
 ],
 "metadata": {
  "kernelspec": {
   "display_name": "Python 3",
   "language": "python",
   "name": "python3"
  },
  "language_info": {
   "codemirror_mode": {
    "name": "ipython",
    "version": 3
   },
   "file_extension": ".py",
   "mimetype": "text/x-python",
   "name": "python",
   "nbconvert_exporter": "python",
   "pygments_lexer": "ipython3",
   "version": "3.10.12"
  }
 },
 "nbformat": 4,
 "nbformat_minor": 2
}
